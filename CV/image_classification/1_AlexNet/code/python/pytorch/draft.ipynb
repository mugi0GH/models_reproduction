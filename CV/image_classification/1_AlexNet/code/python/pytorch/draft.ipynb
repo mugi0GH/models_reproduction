{
  "cells": [
    {
      "cell_type": "code",
      "execution_count": 1,
      "id": "9c86a811",
      "metadata": {
        "id": "9c86a811"
      },
      "outputs": [],
      "source": [
        "import torch,sys,os\n",
        "\n",
        "from tqdm import tqdm\n",
        "\n",
        "from torch import nn\n",
        "\n",
        "from torch.utils.data import DataLoader\n",
        "from torchvision import datasets\n",
        "from torchvision.transforms import ToTensor\n",
        "import torchvision.transforms as transforms"
      ]
    },
    {
      "cell_type": "markdown",
      "source": [
        "# Model architecture"
      ],
      "metadata": {
        "id": "erXevUSd6iTB"
      },
      "id": "erXevUSd6iTB"
    },
    {
      "cell_type": "code",
      "execution_count": 2,
      "id": "57bf5ce2",
      "metadata": {
        "id": "57bf5ce2"
      },
      "outputs": [],
      "source": [
        "class AlexNet(nn.Module):\n",
        "    def __init__(self, num_classes=102, init_weights=False):\n",
        "        super(AlexNet, self).__init__()\n",
        "\n",
        "        self.conv1 = nn.Sequential(\n",
        "            nn.Conv2d(in_channels=3, out_channels=96, kernel_size=11, stride=4, padding=0, bias=True),\n",
        "            nn.ReLU(inplace=True),\n",
        "            nn.LocalResponseNorm(size=5, k=2, alpha=1e-4, beta=0.75),\n",
        "            nn.MaxPool2d(kernel_size=3, stride=2))\n",
        "\n",
        "        self.conv2 = nn.Sequential(\n",
        "            nn.Conv2d(in_channels=96, out_channels=256, kernel_size=5, stride=1, padding=2, bias=True),\n",
        "            nn.ReLU(inplace=True),\n",
        "            nn.LocalResponseNorm(size=5, k=2, alpha=1e-4, beta=0.75),\n",
        "            nn.MaxPool2d(kernel_size=3, stride=2))\n",
        "\n",
        "        self.conv3 = nn.Sequential(\n",
        "            nn.Conv2d(in_channels=256, out_channels=384, kernel_size=3, stride=1, padding=1, bias=True),\n",
        "            nn.ReLU(inplace=True)\n",
        "            )\n",
        "        self.conv4 =nn.Sequential(\n",
        "            nn.Conv2d(in_channels=384, out_channels=384, kernel_size=3, stride=1, padding=1, bias=True),\n",
        "            nn.ReLU(inplace=True)\n",
        "            )\n",
        "        self.conv5 = nn.Sequential(\n",
        "            nn.Conv2d(in_channels=384, out_channels=256, kernel_size=3, stride=1, padding=1, bias=True),\n",
        "            nn.ReLU(inplace=True),\n",
        "            nn.MaxPool2d(kernel_size=3, stride=2)\n",
        "        )\n",
        "\n",
        "        \n",
        "        self.FC = nn.Sequential(\n",
        "            # nn.Flatten(),\n",
        "            nn.Linear(in_features=256*6*6,out_features= 4096),\n",
        "            nn.ReLU(),\n",
        "            nn.Dropout(0.5),\n",
        "            nn.Linear(in_features= 4096,out_features= 4096),\n",
        "            nn.ReLU(),\n",
        "            nn.Dropout(0.5),\n",
        "            nn.Linear(in_features= 4096,out_features= num_classes),\n",
        "        )\n",
        "\n",
        "        if init_weights:\n",
        "            self._initialize_weights()\n",
        "\n",
        "    def forward(self, x):\n",
        "        x = self.conv1(x)\n",
        "        # print(x.shape)\n",
        "        x = self.conv2(x)\n",
        "        # print(x.shape)\n",
        "        x = self.conv3(x)\n",
        "        # print(x.shape)\n",
        "        x = self.conv4(x)\n",
        "        # print(x.shape)\n",
        "        x = self.conv5(x)\n",
        "        # print(x.shape)\n",
        "        x = torch.flatten(x, start_dim=1)\n",
        "        y = self.FC(x)\n",
        "        \n",
        "        return y\n",
        "\n",
        "    def _initialize_weights(self):\n",
        "        for m in self.modules():\n",
        "            if isinstance(m, nn.Conv2d):\n",
        "                nn.init.kaiming_normal_(m.weight, mode='fan_out', nonlinearity='relu')\n",
        "                if m.bias is not None:\n",
        "                    nn.init.constant_(m.bias, 0)\n",
        "            elif isinstance(m, nn.Linear):\n",
        "                nn.init.normal_(m.weight, 0, 0.01)\n",
        "                nn.init.constant_(m.bias, 0)\n",
        "\n"
      ]
    },
    {
      "cell_type": "markdown",
      "source": [
        "# STL10 Dataset"
      ],
      "metadata": {
        "id": "Exa0py-D6s9y"
      },
      "id": "Exa0py-D6s9y"
    },
    {
      "cell_type": "code",
      "execution_count": 3,
      "metadata": {
        "colab": {
          "base_uri": "https://localhost:8080/",
          "height": 161,
          "referenced_widgets": [
            "f68301a21e3a4d02afb84c931c5f8f86",
            "7e81b55ae0e644699a50858cebdb28d4",
            "d1bb25fbaf5e49caa312b7be1f942aa4",
            "6a4344e5eb384fb8a9bc6d75ec716b2d",
            "c8125006ec414cd9a3938c8c8236640f",
            "ccfd970b6d0d4670b8778c6c640aabbb",
            "a9f0ccbb4dae492f8a8af42fb1766870",
            "abd045b84eb7439894046e747648e8f3",
            "684fc43f08ff4e9384a68963f16f9515",
            "9083513da34a4b07b7c6c4a9377649ff",
            "a6271baa4b6046518511930f85d70e17"
          ]
        },
        "id": "1cdjTzhF5qCs",
        "outputId": "485f578d-eb61-4ab7-c0fd-5ff200bef291"
      },
      "outputs": [
        {
          "output_type": "stream",
          "name": "stdout",
          "text": [
            "Downloading http://ai.stanford.edu/~acoates/stl10/stl10_binary.tar.gz to /root/data/STL10/stl10_binary.tar.gz\n"
          ]
        },
        {
          "output_type": "display_data",
          "data": {
            "text/plain": [
              "  0%|          | 0/2640397119 [00:00<?, ?it/s]"
            ],
            "application/vnd.jupyter.widget-view+json": {
              "version_major": 2,
              "version_minor": 0,
              "model_id": "f68301a21e3a4d02afb84c931c5f8f86"
            }
          },
          "metadata": {}
        },
        {
          "output_type": "stream",
          "name": "stdout",
          "text": [
            "Extracting /root/data/STL10/stl10_binary.tar.gz to /root/data/STL10/\n"
          ]
        },
        {
          "output_type": "stream",
          "name": "stderr",
          "text": [
            "/usr/local/lib/python3.7/dist-packages/torch/utils/data/dataloader.py:566: UserWarning: This DataLoader will create 8 worker processes in total. Our suggested max number of worker in current system is 2, which is smaller than what this DataLoader is going to create. Please be aware that excessive worker creation might get DataLoader running slow or even freeze, lower the worker number to avoid potential slowness/freeze if necessary.\n",
            "  cpuset_checked))\n"
          ]
        },
        {
          "output_type": "stream",
          "name": "stdout",
          "text": [
            "Files already downloaded and verified\n"
          ]
        }
      ],
      "source": [
        "transform=transforms.Compose(\n",
        "    [transforms.ToTensor(),\n",
        "    transforms.Normalize((0.5,0.5,0.5,),(0.5,0.5,0.5)),\n",
        "\ttransforms.Resize([227, 227])\n",
        "    ]\n",
        ")\n",
        "\n",
        "# Download training data from open datasets.\n",
        "train_set = datasets.STL10(\n",
        "    root=\"~/data/STL10/\",\n",
        "    split ='train',\n",
        "    download=True,\n",
        "    transform=transform, # transform,\n",
        ")\n",
        "trainloader=torch.utils.data.DataLoader(\n",
        "\ttrain_set,\n",
        "\tbatch_size=72,\n",
        "\tshuffle=True,\n",
        "\tpin_memory=True,\n",
        "    num_workers=8\n",
        "\t)\n",
        "\n",
        "\n",
        "# Download test data from open datasets.\n",
        "test_set = datasets.STL10(\n",
        "    root=\"~/data/STL10/\",\n",
        "    split ='test',\n",
        "    download=True,\n",
        "    transform=transform, # transform,\n",
        ")\n",
        "testloader=torch.utils.data.DataLoader(\n",
        "\ttest_set,\n",
        "\tbatch_size=72,\n",
        "\tshuffle=False,\n",
        "    pin_memory=True,\n",
        "    num_workers=8\n",
        "\t)\n",
        "\n",
        "# test_data_iter=iter(testloader)\n",
        "# test_image,test_label=test_data_iter.next()\n",
        "test_num  = len(test_set)\n",
        "train_steps = len(trainloader)"
      ],
      "id": "1cdjTzhF5qCs"
    },
    {
      "cell_type": "markdown",
      "source": [
        "# model define"
      ],
      "metadata": {
        "id": "19sXCtWN64X3"
      },
      "id": "19sXCtWN64X3"
    },
    {
      "cell_type": "code",
      "source": [
        "device = \"cuda\" if torch.cuda.is_available() else \"cpu\"\n",
        "print(f\"Using {device} device\")\n",
        "\n",
        "model = AlexNet(num_classes=10, init_weights=True).to(device)"
      ],
      "metadata": {
        "colab": {
          "base_uri": "https://localhost:8080/"
        },
        "id": "JkKUoBVQ66ha",
        "outputId": "16d652ca-6d05-4664-f865-0bf73fa6be3c"
      },
      "id": "JkKUoBVQ66ha",
      "execution_count": 4,
      "outputs": [
        {
          "output_type": "stream",
          "name": "stdout",
          "text": [
            "Using cuda device\n"
          ]
        }
      ]
    },
    {
      "cell_type": "markdown",
      "source": [
        "# loss and optimize"
      ],
      "metadata": {
        "id": "xnSwp7tE6yQm"
      },
      "id": "xnSwp7tE6yQm"
    },
    {
      "cell_type": "code",
      "execution_count": 5,
      "id": "077a2bd2",
      "metadata": {
        "id": "077a2bd2"
      },
      "outputs": [],
      "source": [
        "# 定义一个损失函数\n",
        "loss_fn = nn.CrossEntropyLoss()\n",
        "\n",
        "# 定义一个优化器\n",
        "optimizer = torch.optim.Adam(model.parameters(),lr=0.001)\n",
        "# optimizer = torch.optim.SGD(model.parameters(),lr=0.001)\n",
        "\n",
        "epochs = 40\n",
        "\n",
        "save_path= './AlexNet.pth'\n",
        "best_acc = 0.0"
      ]
    },
    {
      "cell_type": "code",
      "execution_count": 6,
      "id": "233f2a49",
      "metadata": {
        "colab": {
          "base_uri": "https://localhost:8080/"
        },
        "id": "233f2a49",
        "outputId": "aa7bff00-7dac-4a34-b5ac-87fe036a9285"
      },
      "outputs": [
        {
          "output_type": "stream",
          "name": "stdout",
          "text": [
            "train epoch[1/40] loss:2.225: 100%|██████████| 70/70 [00:19<00:00,  3.65it/s]\n",
            "100%|██████████| 112/112 [00:12<00:00,  9.25it/s]\n",
            "[epoch 1] train_loss: 2.220  val_accuracy: 0.284\n",
            "train epoch[2/40] loss:1.804: 100%|██████████| 70/70 [00:13<00:00,  5.30it/s]\n",
            "100%|██████████| 112/112 [00:17<00:00,  6.39it/s]\n",
            "[epoch 2] train_loss: 1.815  val_accuracy: 0.326\n",
            "train epoch[3/40] loss:1.524: 100%|██████████| 70/70 [00:13<00:00,  5.32it/s]\n",
            "100%|██████████| 112/112 [00:18<00:00,  5.98it/s]\n",
            "[epoch 3] train_loss: 1.645  val_accuracy: 0.402\n",
            "train epoch[4/40] loss:1.598: 100%|██████████| 70/70 [00:13<00:00,  5.26it/s]\n",
            "100%|██████████| 112/112 [00:17<00:00,  6.37it/s]\n",
            "[epoch 4] train_loss: 1.528  val_accuracy: 0.416\n",
            "train epoch[5/40] loss:1.483: 100%|██████████| 70/70 [00:13<00:00,  5.29it/s]\n",
            "100%|██████████| 112/112 [00:17<00:00,  6.36it/s]\n",
            "[epoch 5] train_loss: 1.404  val_accuracy: 0.464\n",
            "train epoch[6/40] loss:1.030: 100%|██████████| 70/70 [00:13<00:00,  5.15it/s]\n",
            "100%|██████████| 112/112 [00:17<00:00,  6.31it/s]\n",
            "[epoch 6] train_loss: 1.316  val_accuracy: 0.441\n",
            "train epoch[7/40] loss:1.256: 100%|██████████| 70/70 [00:13<00:00,  5.26it/s]\n",
            "100%|██████████| 112/112 [00:17<00:00,  6.31it/s]\n",
            "[epoch 7] train_loss: 1.249  val_accuracy: 0.481\n",
            "train epoch[8/40] loss:1.398: 100%|██████████| 70/70 [00:13<00:00,  5.22it/s]\n",
            "100%|██████████| 112/112 [00:17<00:00,  6.55it/s]\n",
            "[epoch 8] train_loss: 1.153  val_accuracy: 0.513\n",
            "train epoch[9/40] loss:0.863: 100%|██████████| 70/70 [00:12<00:00,  5.52it/s]\n",
            "100%|██████████| 112/112 [00:16<00:00,  6.60it/s]\n",
            "[epoch 9] train_loss: 1.033  val_accuracy: 0.516\n",
            "train epoch[10/40] loss:0.784: 100%|██████████| 70/70 [00:14<00:00,  4.88it/s]\n",
            "100%|██████████| 112/112 [00:19<00:00,  5.88it/s]\n",
            "[epoch 10] train_loss: 0.935  val_accuracy: 0.532\n",
            "train epoch[11/40] loss:0.756: 100%|██████████| 70/70 [00:13<00:00,  5.15it/s]\n",
            "100%|██████████| 112/112 [00:19<00:00,  5.81it/s]\n",
            "[epoch 11] train_loss: 0.833  val_accuracy: 0.509\n",
            "train epoch[12/40] loss:0.760: 100%|██████████| 70/70 [00:13<00:00,  5.03it/s]\n",
            "100%|██████████| 112/112 [00:19<00:00,  5.88it/s]\n",
            "[epoch 12] train_loss: 0.744  val_accuracy: 0.525\n",
            "train epoch[13/40] loss:0.549: 100%|██████████| 70/70 [00:13<00:00,  5.04it/s]\n",
            "100%|██████████| 112/112 [00:19<00:00,  5.87it/s]\n",
            "[epoch 13] train_loss: 0.651  val_accuracy: 0.516\n",
            "train epoch[14/40] loss:0.601: 100%|██████████| 70/70 [00:14<00:00,  4.97it/s]\n",
            "100%|██████████| 112/112 [00:19<00:00,  5.84it/s]\n",
            "[epoch 14] train_loss: 0.531  val_accuracy: 0.519\n",
            "train epoch[15/40] loss:0.742: 100%|██████████| 70/70 [00:15<00:00,  4.60it/s]\n",
            "100%|██████████| 112/112 [00:19<00:00,  5.84it/s]\n",
            "[epoch 15] train_loss: 0.494  val_accuracy: 0.533\n",
            "train epoch[16/40] loss:0.664: 100%|██████████| 70/70 [00:14<00:00,  4.98it/s]\n",
            "100%|██████████| 112/112 [00:19<00:00,  5.84it/s]\n",
            "[epoch 16] train_loss: 0.411  val_accuracy: 0.542\n",
            "train epoch[17/40] loss:0.474: 100%|██████████| 70/70 [00:14<00:00,  4.94it/s]\n",
            "100%|██████████| 112/112 [00:19<00:00,  5.83it/s]\n",
            "[epoch 17] train_loss: 0.349  val_accuracy: 0.531\n",
            "train epoch[18/40] loss:0.216: 100%|██████████| 70/70 [00:13<00:00,  5.01it/s]\n",
            "100%|██████████| 112/112 [00:19<00:00,  5.83it/s]\n",
            "[epoch 18] train_loss: 0.329  val_accuracy: 0.507\n",
            "train epoch[19/40] loss:0.373: 100%|██████████| 70/70 [00:14<00:00,  4.93it/s]\n",
            "100%|██████████| 112/112 [00:19<00:00,  5.83it/s]\n",
            "[epoch 19] train_loss: 0.330  val_accuracy: 0.527\n",
            "train epoch[20/40] loss:0.191: 100%|██████████| 70/70 [00:14<00:00,  4.96it/s]\n",
            "100%|██████████| 112/112 [00:20<00:00,  5.55it/s]\n",
            "[epoch 20] train_loss: 0.246  val_accuracy: 0.529\n",
            "train epoch[21/40] loss:0.077: 100%|██████████| 70/70 [00:13<00:00,  5.03it/s]\n",
            "100%|██████████| 112/112 [00:19<00:00,  5.83it/s]\n",
            "[epoch 21] train_loss: 0.223  val_accuracy: 0.523\n",
            "train epoch[22/40] loss:0.174: 100%|██████████| 70/70 [00:14<00:00,  4.90it/s]\n",
            "100%|██████████| 112/112 [00:19<00:00,  5.85it/s]\n",
            "[epoch 22] train_loss: 0.259  val_accuracy: 0.531\n",
            "train epoch[23/40] loss:0.170: 100%|██████████| 70/70 [00:14<00:00,  4.94it/s]\n",
            "100%|██████████| 112/112 [00:19<00:00,  5.85it/s]\n",
            "[epoch 23] train_loss: 0.227  val_accuracy: 0.532\n",
            "train epoch[24/40] loss:0.341: 100%|██████████| 70/70 [00:14<00:00,  4.86it/s]\n",
            "100%|██████████| 112/112 [00:19<00:00,  5.83it/s]\n",
            "[epoch 24] train_loss: 0.181  val_accuracy: 0.526\n",
            "train epoch[25/40] loss:0.447: 100%|██████████| 70/70 [00:14<00:00,  4.94it/s]\n",
            "100%|██████████| 112/112 [00:19<00:00,  5.83it/s]\n",
            "[epoch 25] train_loss: 0.239  val_accuracy: 0.519\n",
            "train epoch[26/40] loss:0.087: 100%|██████████| 70/70 [00:13<00:00,  5.02it/s]\n",
            "100%|██████████| 112/112 [00:20<00:00,  5.56it/s]\n",
            "[epoch 26] train_loss: 0.205  val_accuracy: 0.519\n",
            "train epoch[27/40] loss:0.223: 100%|██████████| 70/70 [00:13<00:00,  5.02it/s]\n",
            "100%|██████████| 112/112 [00:19<00:00,  5.80it/s]\n",
            "[epoch 27] train_loss: 0.180  val_accuracy: 0.523\n",
            "train epoch[28/40] loss:0.621: 100%|██████████| 70/70 [00:13<00:00,  5.00it/s]\n",
            "100%|██████████| 112/112 [00:19<00:00,  5.82it/s]\n",
            "[epoch 28] train_loss: 0.225  val_accuracy: 0.526\n",
            "train epoch[29/40] loss:0.455: 100%|██████████| 70/70 [00:13<00:00,  5.03it/s]\n",
            "100%|██████████| 112/112 [00:19<00:00,  5.79it/s]\n",
            "[epoch 29] train_loss: 0.205  val_accuracy: 0.532\n",
            "train epoch[30/40] loss:0.131: 100%|██████████| 70/70 [00:13<00:00,  5.03it/s]\n",
            "100%|██████████| 112/112 [00:19<00:00,  5.78it/s]\n",
            "[epoch 30] train_loss: 0.180  val_accuracy: 0.536\n",
            "train epoch[31/40] loss:0.147: 100%|██████████| 70/70 [00:14<00:00,  4.96it/s]\n",
            "100%|██████████| 112/112 [00:19<00:00,  5.80it/s]\n",
            "[epoch 31] train_loss: 0.183  val_accuracy: 0.530\n",
            "train epoch[32/40] loss:0.034: 100%|██████████| 70/70 [00:15<00:00,  4.62it/s]\n",
            "100%|██████████| 112/112 [00:19<00:00,  5.86it/s]\n",
            "[epoch 32] train_loss: 0.174  val_accuracy: 0.537\n",
            "train epoch[33/40] loss:0.082: 100%|██████████| 70/70 [00:14<00:00,  4.92it/s]\n",
            "100%|██████████| 112/112 [00:19<00:00,  5.75it/s]\n",
            "[epoch 33] train_loss: 0.135  val_accuracy: 0.530\n",
            "train epoch[34/40] loss:0.086: 100%|██████████| 70/70 [00:14<00:00,  4.90it/s]\n",
            "100%|██████████| 112/112 [00:19<00:00,  5.78it/s]\n",
            "[epoch 34] train_loss: 0.177  val_accuracy: 0.534\n",
            "train epoch[35/40] loss:0.269: 100%|██████████| 70/70 [00:13<00:00,  5.03it/s]\n",
            "100%|██████████| 112/112 [00:19<00:00,  5.78it/s]\n",
            "[epoch 35] train_loss: 0.143  val_accuracy: 0.535\n",
            "train epoch[36/40] loss:0.015: 100%|██████████| 70/70 [00:14<00:00,  4.93it/s]\n",
            "100%|██████████| 112/112 [00:19<00:00,  5.80it/s]\n",
            "[epoch 36] train_loss: 0.120  val_accuracy: 0.525\n",
            "train epoch[37/40] loss:0.065: 100%|██████████| 70/70 [00:14<00:00,  4.96it/s]\n",
            "100%|██████████| 112/112 [00:20<00:00,  5.52it/s]\n",
            "[epoch 37] train_loss: 0.089  val_accuracy: 0.524\n",
            "train epoch[38/40] loss:0.204: 100%|██████████| 70/70 [00:14<00:00,  4.95it/s]\n",
            "100%|██████████| 112/112 [00:19<00:00,  5.81it/s]\n",
            "[epoch 38] train_loss: 0.146  val_accuracy: 0.502\n",
            "train epoch[39/40] loss:0.006: 100%|██████████| 70/70 [00:14<00:00,  4.97it/s]\n",
            "100%|██████████| 112/112 [00:19<00:00,  5.81it/s]\n",
            "[epoch 39] train_loss: 0.201  val_accuracy: 0.523\n",
            "train epoch[40/40] loss:0.395: 100%|██████████| 70/70 [00:14<00:00,  4.86it/s]\n",
            "100%|██████████| 112/112 [00:19<00:00,  5.79it/s]\n",
            "[epoch 40] train_loss: 0.092  val_accuracy: 0.540\n",
            "Finished Training\n"
          ]
        }
      ],
      "source": [
        "# train\n",
        "\n",
        "for epoch in range(epochs):\n",
        "        # train\n",
        "        model.train()\n",
        "        running_loss = 0.0\n",
        "        train_bar = tqdm(trainloader, file=sys.stdout)\n",
        "        for step, data in enumerate(train_bar):\n",
        "            images, labels = data\n",
        "            optimizer.zero_grad()\n",
        "            outputs = model(images.to(device))\n",
        "            loss = loss_fn(outputs, labels.to(device))\n",
        "            loss.backward()\n",
        "            optimizer.step()\n",
        "\n",
        "            # print statistics\n",
        "            running_loss += loss.item()\n",
        "\n",
        "            train_bar.desc = \"train epoch[{}/{}] loss:{:.3f}\".format(epoch + 1,\n",
        "                                                                     epochs,\n",
        "                                                                     loss)\n",
        "\n",
        "# validate\n",
        "        model.eval()\n",
        "        acc = 0.0  # accumulate accurate number / epoch\n",
        "        with torch.no_grad():\n",
        "            val_bar = tqdm(testloader, file=sys.stdout) # show progress\n",
        "            for val_data in val_bar:\n",
        "                val_images, val_labels = val_data\n",
        "                outputs = model(val_images.to(device))\n",
        "                predict_y = torch.max(outputs, dim=1)[1]\n",
        "                acc += torch.eq(predict_y, val_labels.to(device)).sum().item()\n",
        "\n",
        "        val_accurate = acc / test_num\n",
        "        print('[epoch %d] train_loss: %.3f  val_accuracy: %.3f' %\n",
        "              (epoch + 1, running_loss / train_steps, val_accurate))\n",
        "\n",
        "        if val_accurate > best_acc:\n",
        "            best_acc = val_accurate\n",
        "            torch.save(model.state_dict(), save_path)\n",
        "\n",
        "print('Finished Training') "
      ]
    },
    {
      "cell_type": "code",
      "execution_count": 7,
      "id": "739d44a6",
      "metadata": {
        "colab": {
          "base_uri": "https://localhost:8080/"
        },
        "id": "739d44a6",
        "outputId": "25a93eb9-b694-4a91-8bb6-c6f510567732"
      },
      "outputs": [
        {
          "output_type": "execute_result",
          "data": {
            "text/plain": [
              "0.541625"
            ]
          },
          "metadata": {},
          "execution_count": 7
        }
      ],
      "source": [
        "best_acc"
      ]
    }
  ],
  "metadata": {
    "kernelspec": {
      "display_name": "Python 3.8.13 ('ryan': conda)",
      "language": "python",
      "name": "python3"
    },
    "language_info": {
      "codemirror_mode": {
        "name": "ipython",
        "version": 3
      },
      "file_extension": ".py",
      "mimetype": "text/x-python",
      "name": "python",
      "nbconvert_exporter": "python",
      "pygments_lexer": "ipython3",
      "version": "3.8.13"
    },
    "vscode": {
      "interpreter": {
        "hash": "e70b0d8493b7f59e214a43b868537ebeafe12cb89daa279090c57b89e62c1c99"
      }
    },
    "colab": {
      "provenance": [],
      "collapsed_sections": []
    },
    "accelerator": "GPU",
    "widgets": {
      "application/vnd.jupyter.widget-state+json": {
        "f68301a21e3a4d02afb84c931c5f8f86": {
          "model_module": "@jupyter-widgets/controls",
          "model_name": "HBoxModel",
          "model_module_version": "1.5.0",
          "state": {
            "_dom_classes": [],
            "_model_module": "@jupyter-widgets/controls",
            "_model_module_version": "1.5.0",
            "_model_name": "HBoxModel",
            "_view_count": null,
            "_view_module": "@jupyter-widgets/controls",
            "_view_module_version": "1.5.0",
            "_view_name": "HBoxView",
            "box_style": "",
            "children": [
              "IPY_MODEL_7e81b55ae0e644699a50858cebdb28d4",
              "IPY_MODEL_d1bb25fbaf5e49caa312b7be1f942aa4",
              "IPY_MODEL_6a4344e5eb384fb8a9bc6d75ec716b2d"
            ],
            "layout": "IPY_MODEL_c8125006ec414cd9a3938c8c8236640f"
          }
        },
        "7e81b55ae0e644699a50858cebdb28d4": {
          "model_module": "@jupyter-widgets/controls",
          "model_name": "HTMLModel",
          "model_module_version": "1.5.0",
          "state": {
            "_dom_classes": [],
            "_model_module": "@jupyter-widgets/controls",
            "_model_module_version": "1.5.0",
            "_model_name": "HTMLModel",
            "_view_count": null,
            "_view_module": "@jupyter-widgets/controls",
            "_view_module_version": "1.5.0",
            "_view_name": "HTMLView",
            "description": "",
            "description_tooltip": null,
            "layout": "IPY_MODEL_ccfd970b6d0d4670b8778c6c640aabbb",
            "placeholder": "​",
            "style": "IPY_MODEL_a9f0ccbb4dae492f8a8af42fb1766870",
            "value": "100%"
          }
        },
        "d1bb25fbaf5e49caa312b7be1f942aa4": {
          "model_module": "@jupyter-widgets/controls",
          "model_name": "FloatProgressModel",
          "model_module_version": "1.5.0",
          "state": {
            "_dom_classes": [],
            "_model_module": "@jupyter-widgets/controls",
            "_model_module_version": "1.5.0",
            "_model_name": "FloatProgressModel",
            "_view_count": null,
            "_view_module": "@jupyter-widgets/controls",
            "_view_module_version": "1.5.0",
            "_view_name": "ProgressView",
            "bar_style": "success",
            "description": "",
            "description_tooltip": null,
            "layout": "IPY_MODEL_abd045b84eb7439894046e747648e8f3",
            "max": 2640397119,
            "min": 0,
            "orientation": "horizontal",
            "style": "IPY_MODEL_684fc43f08ff4e9384a68963f16f9515",
            "value": 2640397119
          }
        },
        "6a4344e5eb384fb8a9bc6d75ec716b2d": {
          "model_module": "@jupyter-widgets/controls",
          "model_name": "HTMLModel",
          "model_module_version": "1.5.0",
          "state": {
            "_dom_classes": [],
            "_model_module": "@jupyter-widgets/controls",
            "_model_module_version": "1.5.0",
            "_model_name": "HTMLModel",
            "_view_count": null,
            "_view_module": "@jupyter-widgets/controls",
            "_view_module_version": "1.5.0",
            "_view_name": "HTMLView",
            "description": "",
            "description_tooltip": null,
            "layout": "IPY_MODEL_9083513da34a4b07b7c6c4a9377649ff",
            "placeholder": "​",
            "style": "IPY_MODEL_a6271baa4b6046518511930f85d70e17",
            "value": " 2640397119/2640397119 [00:28&lt;00:00, 110698637.45it/s]"
          }
        },
        "c8125006ec414cd9a3938c8c8236640f": {
          "model_module": "@jupyter-widgets/base",
          "model_name": "LayoutModel",
          "model_module_version": "1.2.0",
          "state": {
            "_model_module": "@jupyter-widgets/base",
            "_model_module_version": "1.2.0",
            "_model_name": "LayoutModel",
            "_view_count": null,
            "_view_module": "@jupyter-widgets/base",
            "_view_module_version": "1.2.0",
            "_view_name": "LayoutView",
            "align_content": null,
            "align_items": null,
            "align_self": null,
            "border": null,
            "bottom": null,
            "display": null,
            "flex": null,
            "flex_flow": null,
            "grid_area": null,
            "grid_auto_columns": null,
            "grid_auto_flow": null,
            "grid_auto_rows": null,
            "grid_column": null,
            "grid_gap": null,
            "grid_row": null,
            "grid_template_areas": null,
            "grid_template_columns": null,
            "grid_template_rows": null,
            "height": null,
            "justify_content": null,
            "justify_items": null,
            "left": null,
            "margin": null,
            "max_height": null,
            "max_width": null,
            "min_height": null,
            "min_width": null,
            "object_fit": null,
            "object_position": null,
            "order": null,
            "overflow": null,
            "overflow_x": null,
            "overflow_y": null,
            "padding": null,
            "right": null,
            "top": null,
            "visibility": null,
            "width": null
          }
        },
        "ccfd970b6d0d4670b8778c6c640aabbb": {
          "model_module": "@jupyter-widgets/base",
          "model_name": "LayoutModel",
          "model_module_version": "1.2.0",
          "state": {
            "_model_module": "@jupyter-widgets/base",
            "_model_module_version": "1.2.0",
            "_model_name": "LayoutModel",
            "_view_count": null,
            "_view_module": "@jupyter-widgets/base",
            "_view_module_version": "1.2.0",
            "_view_name": "LayoutView",
            "align_content": null,
            "align_items": null,
            "align_self": null,
            "border": null,
            "bottom": null,
            "display": null,
            "flex": null,
            "flex_flow": null,
            "grid_area": null,
            "grid_auto_columns": null,
            "grid_auto_flow": null,
            "grid_auto_rows": null,
            "grid_column": null,
            "grid_gap": null,
            "grid_row": null,
            "grid_template_areas": null,
            "grid_template_columns": null,
            "grid_template_rows": null,
            "height": null,
            "justify_content": null,
            "justify_items": null,
            "left": null,
            "margin": null,
            "max_height": null,
            "max_width": null,
            "min_height": null,
            "min_width": null,
            "object_fit": null,
            "object_position": null,
            "order": null,
            "overflow": null,
            "overflow_x": null,
            "overflow_y": null,
            "padding": null,
            "right": null,
            "top": null,
            "visibility": null,
            "width": null
          }
        },
        "a9f0ccbb4dae492f8a8af42fb1766870": {
          "model_module": "@jupyter-widgets/controls",
          "model_name": "DescriptionStyleModel",
          "model_module_version": "1.5.0",
          "state": {
            "_model_module": "@jupyter-widgets/controls",
            "_model_module_version": "1.5.0",
            "_model_name": "DescriptionStyleModel",
            "_view_count": null,
            "_view_module": "@jupyter-widgets/base",
            "_view_module_version": "1.2.0",
            "_view_name": "StyleView",
            "description_width": ""
          }
        },
        "abd045b84eb7439894046e747648e8f3": {
          "model_module": "@jupyter-widgets/base",
          "model_name": "LayoutModel",
          "model_module_version": "1.2.0",
          "state": {
            "_model_module": "@jupyter-widgets/base",
            "_model_module_version": "1.2.0",
            "_model_name": "LayoutModel",
            "_view_count": null,
            "_view_module": "@jupyter-widgets/base",
            "_view_module_version": "1.2.0",
            "_view_name": "LayoutView",
            "align_content": null,
            "align_items": null,
            "align_self": null,
            "border": null,
            "bottom": null,
            "display": null,
            "flex": null,
            "flex_flow": null,
            "grid_area": null,
            "grid_auto_columns": null,
            "grid_auto_flow": null,
            "grid_auto_rows": null,
            "grid_column": null,
            "grid_gap": null,
            "grid_row": null,
            "grid_template_areas": null,
            "grid_template_columns": null,
            "grid_template_rows": null,
            "height": null,
            "justify_content": null,
            "justify_items": null,
            "left": null,
            "margin": null,
            "max_height": null,
            "max_width": null,
            "min_height": null,
            "min_width": null,
            "object_fit": null,
            "object_position": null,
            "order": null,
            "overflow": null,
            "overflow_x": null,
            "overflow_y": null,
            "padding": null,
            "right": null,
            "top": null,
            "visibility": null,
            "width": null
          }
        },
        "684fc43f08ff4e9384a68963f16f9515": {
          "model_module": "@jupyter-widgets/controls",
          "model_name": "ProgressStyleModel",
          "model_module_version": "1.5.0",
          "state": {
            "_model_module": "@jupyter-widgets/controls",
            "_model_module_version": "1.5.0",
            "_model_name": "ProgressStyleModel",
            "_view_count": null,
            "_view_module": "@jupyter-widgets/base",
            "_view_module_version": "1.2.0",
            "_view_name": "StyleView",
            "bar_color": null,
            "description_width": ""
          }
        },
        "9083513da34a4b07b7c6c4a9377649ff": {
          "model_module": "@jupyter-widgets/base",
          "model_name": "LayoutModel",
          "model_module_version": "1.2.0",
          "state": {
            "_model_module": "@jupyter-widgets/base",
            "_model_module_version": "1.2.0",
            "_model_name": "LayoutModel",
            "_view_count": null,
            "_view_module": "@jupyter-widgets/base",
            "_view_module_version": "1.2.0",
            "_view_name": "LayoutView",
            "align_content": null,
            "align_items": null,
            "align_self": null,
            "border": null,
            "bottom": null,
            "display": null,
            "flex": null,
            "flex_flow": null,
            "grid_area": null,
            "grid_auto_columns": null,
            "grid_auto_flow": null,
            "grid_auto_rows": null,
            "grid_column": null,
            "grid_gap": null,
            "grid_row": null,
            "grid_template_areas": null,
            "grid_template_columns": null,
            "grid_template_rows": null,
            "height": null,
            "justify_content": null,
            "justify_items": null,
            "left": null,
            "margin": null,
            "max_height": null,
            "max_width": null,
            "min_height": null,
            "min_width": null,
            "object_fit": null,
            "object_position": null,
            "order": null,
            "overflow": null,
            "overflow_x": null,
            "overflow_y": null,
            "padding": null,
            "right": null,
            "top": null,
            "visibility": null,
            "width": null
          }
        },
        "a6271baa4b6046518511930f85d70e17": {
          "model_module": "@jupyter-widgets/controls",
          "model_name": "DescriptionStyleModel",
          "model_module_version": "1.5.0",
          "state": {
            "_model_module": "@jupyter-widgets/controls",
            "_model_module_version": "1.5.0",
            "_model_name": "DescriptionStyleModel",
            "_view_count": null,
            "_view_module": "@jupyter-widgets/base",
            "_view_module_version": "1.2.0",
            "_view_name": "StyleView",
            "description_width": ""
          }
        }
      }
    }
  },
  "nbformat": 4,
  "nbformat_minor": 5
}